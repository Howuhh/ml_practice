{
 "cells": [
  {
   "cell_type": "markdown",
   "metadata": {},
   "source": [
    "# Lambda Calculus: PyCon 2019\n",
    "\n",
    "\n",
    "link: https://www.youtube.com/watch?v=5C6sv7-eTKg"
   ]
  },
  {
   "cell_type": "markdown",
   "metadata": {},
   "source": [
    "Dude, don't ask me why pls"
   ]
  },
  {
   "cell_type": "code",
   "execution_count": 1,
   "metadata": {},
   "outputs": [],
   "source": [
    "from functools import partial"
   ]
  },
  {
   "cell_type": "code",
   "execution_count": 2,
   "metadata": {},
   "outputs": [],
   "source": [
    "printl = partial(print, end=\"\\n\"*2)"
   ]
  },
  {
   "cell_type": "code",
   "execution_count": 3,
   "metadata": {},
   "outputs": [],
   "source": [
    "# switch bev.\n",
    "def LEFT(a):\n",
    "    def f(b):\n",
    "        return a\n",
    "    return f\n",
    "\n",
    "def RIGTH(a):\n",
    "    def f(b):\n",
    "        return b\n",
    "    return f"
   ]
  },
  {
   "cell_type": "code",
   "execution_count": 4,
   "metadata": {},
   "outputs": [
    {
     "name": "stdout",
     "output_type": "stream",
     "text": [
      "left\n",
      "right\n"
     ]
    }
   ],
   "source": [
    "print(LEFT(\"left\")(\"right\"))\n",
    "\n",
    "print(RIGTH(\"left\")(\"right\"))"
   ]
  },
  {
   "cell_type": "code",
   "execution_count": 7,
   "metadata": {},
   "outputs": [],
   "source": [
    "# boolean\n",
    "def TRUE(x):\n",
    "    return lambda y: x\n",
    "\n",
    "def FALSE(x):\n",
    "    return lambda y: y\n",
    "\n",
    "# reverse values\n",
    "def NOT(x):\n",
    "    return x(FALSE)(TRUE)\n",
    "\n",
    "# AND & OR\n",
    "def AND(x):\n",
    "    \"\"\"\n",
    "    2 and 3 -> 3\n",
    "    0 and 3 -> 0\n",
    "    \"\"\"\n",
    "    return lambda y: x(y)(x)\n",
    "\n",
    "def OR(x):\n",
    "    \"\"\"\n",
    "    2 or 3 -> 2\n",
    "    0 or 3 -> 3\n",
    "    \"\"\"\n",
    "    return lambda y: x(x)(y)"
   ]
  },
  {
   "cell_type": "code",
   "execution_count": 10,
   "metadata": {},
   "outputs": [
    {
     "name": "stdout",
     "output_type": "stream",
     "text": [
      "True return left:  true\n",
      "False return right:  false\n",
      "\n",
      "assert not True == False:  <function FALSE at 0x10243a268>\n",
      "assert not False == True:  <function TRUE at 0x10437ae18>\n",
      "\n",
      "NOT(TRUE):  false\n",
      "NOT(FALSE):  true\n",
      "\n",
      "<function TRUE at 0x10437ae18> <function FALSE at 0x10243a268> <function FALSE at 0x10243a268> <function FALSE at 0x10243a268>\n",
      "<function TRUE at 0x10437ae18> <function TRUE at 0x10437ae18> <function TRUE at 0x10437ae18> <function FALSE at 0x10243a268>\n",
      "\n"
     ]
    }
   ],
   "source": [
    "# logical true and false\n",
    "print(\"True return left: \", TRUE(\"true\")(\"false\"))\n",
    "printl(\"False return right: \", FALSE(\"true\")(\"false\"))\n",
    "\n",
    "# logical not\n",
    "print(\"assert not True == False: \", NOT(TRUE))\n",
    "printl(\"assert not False == True: \", NOT(FALSE))\n",
    "\n",
    "print(\"NOT(TRUE): \", NOT(TRUE)(\"true\")(\"false\"))\n",
    "printl(\"NOT(FALSE): \", NOT(FALSE)(\"true\")(\"false\"))\n",
    "\n",
    "# logical and & or\n",
    "print(AND(TRUE)(TRUE), AND(TRUE)(FALSE), AND(FALSE)(TRUE), AND(FALSE)(FALSE))\n",
    "printl(OR(TRUE)(TRUE), OR(TRUE)(FALSE), OR(FALSE)(TRUE), OR(FALSE)(FALSE))"
   ]
  },
  {
   "cell_type": "code",
   "execution_count": 211,
   "metadata": {},
   "outputs": [],
   "source": [
    "# Church numerals \n",
    "ZERO = lambda f: lambda x: x\n",
    "ONE = lambda f: lambda x: f(x)\n",
    "TWO = lambda f: lambda x: f(f(x))\n",
    "THREE = lambda f: lambda x: f(f(f(x)))\n",
    "FOUR = lambda f: lambda x: f(f(f(f(x))))\n",
    "\n",
    "INC = lambda x: x + 1\n",
    "\n",
    "# SUCC(TWO) -> THREE\n",
    "SUCC = lambda n: (lambda f: lambda x: f(n(f)(x)))\n",
    "\n",
    "# ADD & MULT\n",
    "\n",
    "# ADD(TWO)(THREE) -> FIVE | TWO(SUCC)(TWO)(INC)(0)\n",
    "ADD = lambda x: lambda y: x(SUCC)(y)\n",
    "\n",
    "# MULT(TWO)(THREE) -> SIX | TWO(TWO(INC))(0)\n",
    "MULT = lambda x: lambda y: (lambda f: y(x(f)))\n",
    "POW = lambda x: lambda y: (lambda f: y(x)(f))\n",
    "\n",
    "# paired data sctruct\n",
    "CONS = lambda x: lambda y: lambda f: f(x)(y)\n",
    "CAR = lambda p: p(TRUE)\n",
    "CDR = lambda p: p(FALSE)\n",
    "\n",
    "# PREV(TWO) -> ONE\n",
    "T = lambda p: CONS(SUCC(CAR(p)))(CAR(p)) \n",
    "PRED = lambda n: CDR(n(T)(CONS(ZERO)(ZERO)))\n",
    "\n",
    "# minus\n",
    "SUB = lambda x: lambda y: y(PRED)(x)\n",
    "\n",
    "# test number for zero\n",
    "ISZERO = lambda n: n(lambda f: FALSE)(TRUE)\n",
    "\n",
    "# factorial function\n",
    "FACT = lambda n: (ISZERO(n)\n",
    "                      (ONE)\n",
    "                      (MULT(n)(FACT(PRED(n)))))\n",
    "\n",
    "\n",
    "# fix Python args evaluation and inf rec\n",
    "LAZY_TRUE = lambda x: lambda y: x()\n",
    "LAZY_FALSE = lambda x: lambda y: y()\n",
    "LAZY_ISZERO = lambda n: n(lambda f: LAZY_FALSE)(LAZY_TRUE)\n",
    "\n",
    "LAZY_FACT = lambda n: (LAZY_ISZERO(n)\n",
    "                          (lambda: ONE)\n",
    "                          (lambda: MULT(n)(LAZY_FACT(PRED(n)))))\n"
   ]
  },
  {
   "cell_type": "code",
   "execution_count": 126,
   "metadata": {},
   "outputs": [
    {
     "name": "stdout",
     "output_type": "stream",
     "text": [
      "2 3\n"
     ]
    }
   ],
   "source": [
    "p = CONS(2)(3)\n",
    "print(CAR(p), CDR(p))"
   ]
  },
  {
   "cell_type": "code",
   "execution_count": 152,
   "metadata": {},
   "outputs": [],
   "source": [
    "a = THREE(T)(CONS(ZERO)(ZERO))"
   ]
  },
  {
   "cell_type": "code",
   "execution_count": 154,
   "metadata": {},
   "outputs": [
    {
     "data": {
      "text/plain": [
       "3"
      ]
     },
     "execution_count": 154,
     "metadata": {},
     "output_type": "execute_result"
    }
   ],
   "source": [
    "CAR(a)(INC)(0)"
   ]
  },
  {
   "cell_type": "code",
   "execution_count": 195,
   "metadata": {},
   "outputs": [
    {
     "name": "stdout",
     "output_type": "stream",
     "text": [
      "3^4:  81\n",
      "\n",
      "3^4 - 1:  80\n"
     ]
    }
   ],
   "source": [
    "a = POW(THREE)(FOUR)\n",
    "printl(\"3^4: \", a(INC)(0))\n",
    "\n",
    "b = PRED(a)\n",
    "print(\"3^4 - 1: \", b(INC)(0))"
   ]
  },
  {
   "cell_type": "code",
   "execution_count": 192,
   "metadata": {},
   "outputs": [
    {
     "name": "stdout",
     "output_type": "stream",
     "text": [
      "3 - 2 =  1\n"
     ]
    }
   ],
   "source": [
    "print(\"3 - 2 = \", SUB(THREE)(TWO)(INC)(0))"
   ]
  },
  {
   "cell_type": "code",
   "execution_count": 198,
   "metadata": {},
   "outputs": [
    {
     "data": {
      "text/plain": [
       "<function __main__.TRUE(x)>"
      ]
     },
     "execution_count": 198,
     "metadata": {},
     "output_type": "execute_result"
    }
   ],
   "source": [
    "ISZERO(ZERO)"
   ]
  },
  {
   "cell_type": "code",
   "execution_count": 203,
   "metadata": {},
   "outputs": [
    {
     "ename": "RecursionError",
     "evalue": "maximum recursion depth exceeded",
     "output_type": "error",
     "traceback": [
      "\u001b[0;31m---------------------------------------------------------------------------\u001b[0m",
      "\u001b[0;31mRecursionError\u001b[0m                            Traceback (most recent call last)",
      "\u001b[0;32m<ipython-input-203-ab1bd3d22662>\u001b[0m in \u001b[0;36m<module>\u001b[0;34m()\u001b[0m\n\u001b[0;32m----> 1\u001b[0;31m \u001b[0mFACT\u001b[0m\u001b[0;34m(\u001b[0m\u001b[0mONE\u001b[0m\u001b[0;34m)\u001b[0m\u001b[0;34m\u001b[0m\u001b[0m\n\u001b[0m",
      "\u001b[0;32m<ipython-input-201-b7efd0035b70>\u001b[0m in \u001b[0;36m<lambda>\u001b[0;34m(n)\u001b[0m\n\u001b[1;32m     37\u001b[0m \u001b[0;34m\u001b[0m\u001b[0m\n\u001b[1;32m     38\u001b[0m \u001b[0;31m# factorial function\u001b[0m\u001b[0;34m\u001b[0m\u001b[0;34m\u001b[0m\u001b[0m\n\u001b[0;32m---> 39\u001b[0;31m \u001b[0mFACT\u001b[0m \u001b[0;34m=\u001b[0m \u001b[0;32mlambda\u001b[0m \u001b[0mn\u001b[0m\u001b[0;34m:\u001b[0m \u001b[0mISZERO\u001b[0m\u001b[0;34m(\u001b[0m\u001b[0mn\u001b[0m\u001b[0;34m)\u001b[0m\u001b[0;34m(\u001b[0m\u001b[0mONE\u001b[0m\u001b[0;34m)\u001b[0m\u001b[0;34m(\u001b[0m\u001b[0mMULT\u001b[0m\u001b[0;34m(\u001b[0m\u001b[0mn\u001b[0m\u001b[0;34m)\u001b[0m\u001b[0;34m(\u001b[0m\u001b[0mFACT\u001b[0m\u001b[0;34m(\u001b[0m\u001b[0mPRED\u001b[0m\u001b[0;34m(\u001b[0m\u001b[0mn\u001b[0m\u001b[0;34m)\u001b[0m\u001b[0;34m)\u001b[0m\u001b[0;34m)\u001b[0m\u001b[0;34m)\u001b[0m\u001b[0;34m\u001b[0m\u001b[0m\n\u001b[0m",
      "... last 1 frames repeated, from the frame below ...\n",
      "\u001b[0;32m<ipython-input-201-b7efd0035b70>\u001b[0m in \u001b[0;36m<lambda>\u001b[0;34m(n)\u001b[0m\n\u001b[1;32m     37\u001b[0m \u001b[0;34m\u001b[0m\u001b[0m\n\u001b[1;32m     38\u001b[0m \u001b[0;31m# factorial function\u001b[0m\u001b[0;34m\u001b[0m\u001b[0;34m\u001b[0m\u001b[0m\n\u001b[0;32m---> 39\u001b[0;31m \u001b[0mFACT\u001b[0m \u001b[0;34m=\u001b[0m \u001b[0;32mlambda\u001b[0m \u001b[0mn\u001b[0m\u001b[0;34m:\u001b[0m \u001b[0mISZERO\u001b[0m\u001b[0;34m(\u001b[0m\u001b[0mn\u001b[0m\u001b[0;34m)\u001b[0m\u001b[0;34m(\u001b[0m\u001b[0mONE\u001b[0m\u001b[0;34m)\u001b[0m\u001b[0;34m(\u001b[0m\u001b[0mMULT\u001b[0m\u001b[0;34m(\u001b[0m\u001b[0mn\u001b[0m\u001b[0;34m)\u001b[0m\u001b[0;34m(\u001b[0m\u001b[0mFACT\u001b[0m\u001b[0;34m(\u001b[0m\u001b[0mPRED\u001b[0m\u001b[0;34m(\u001b[0m\u001b[0mn\u001b[0m\u001b[0;34m)\u001b[0m\u001b[0;34m)\u001b[0m\u001b[0;34m)\u001b[0m\u001b[0;34m)\u001b[0m\u001b[0;34m\u001b[0m\u001b[0m\n\u001b[0m",
      "\u001b[0;31mRecursionError\u001b[0m: maximum recursion depth exceeded"
     ]
    }
   ],
   "source": [
    "FACT(ONE)"
   ]
  },
  {
   "cell_type": "code",
   "execution_count": 214,
   "metadata": {
    "scrolled": true
   },
   "outputs": [
    {
     "data": {
      "text/plain": [
       "24"
      ]
     },
     "execution_count": 214,
     "metadata": {},
     "output_type": "execute_result"
    }
   ],
   "source": [
    "LAZY_FACT(FOUR)(INC)(0)"
   ]
  },
  {
   "cell_type": "markdown",
   "metadata": {},
   "source": [
    "# Y-Combinator (wow magick)"
   ]
  },
  {
   "cell_type": "markdown",
   "metadata": {},
   "source": [
    "Problem: we cant refer function itself inside function by name! they are all anonymous!"
   ]
  },
  {
   "cell_type": "code",
   "execution_count": 225,
   "metadata": {},
   "outputs": [],
   "source": [
    "LAZY_FACT = lambda f: lambda n: (LAZY_ISZERO(n)\n",
    "                          (lambda: ONE)\n",
    "                          (lambda: MULT(n)(f(PRED(n)))))"
   ]
  },
  {
   "cell_type": "code",
   "execution_count": 233,
   "metadata": {},
   "outputs": [],
   "source": [
    "R = (lambda f: lambda n: 1 if n==0 else n*f(n-1))\n",
    "Y = lambda f: (lambda x: f(x(x)))(lambda x: f(x(x)))\n",
    "# Python fix\n",
    "Y_wow = lambda f: (lambda x: f(lambda z: x(x)(z)))(lambda x: f(lambda z: x(x)(z)))"
   ]
  },
  {
   "cell_type": "code",
   "execution_count": 234,
   "metadata": {},
   "outputs": [],
   "source": [
    "fact_Y = Y_wow(R)"
   ]
  },
  {
   "cell_type": "code",
   "execution_count": 242,
   "metadata": {},
   "outputs": [
    {
     "data": {
      "text/plain": [
       "24"
      ]
     },
     "execution_count": 242,
     "metadata": {},
     "output_type": "execute_result"
    }
   ],
   "source": [
    "fact_Y(4)"
   ]
  },
  {
   "cell_type": "code",
   "execution_count": 236,
   "metadata": {},
   "outputs": [],
   "source": [
    "fact_lambda = Y_wow(LAZY_FACT)"
   ]
  },
  {
   "cell_type": "code",
   "execution_count": 241,
   "metadata": {},
   "outputs": [
    {
     "data": {
      "text/plain": [
       "24"
      ]
     },
     "execution_count": 241,
     "metadata": {},
     "output_type": "execute_result"
    }
   ],
   "source": [
    "fact_lambda(FOUR)(INC)(0)"
   ]
  },
  {
   "cell_type": "markdown",
   "metadata": {},
   "source": [
    "## holy crap!!!!"
   ]
  }
 ],
 "metadata": {
  "kernelspec": {
   "display_name": "Python 3",
   "language": "python",
   "name": "python3"
  },
  "language_info": {
   "codemirror_mode": {
    "name": "ipython",
    "version": 3
   },
   "file_extension": ".py",
   "mimetype": "text/x-python",
   "name": "python",
   "nbconvert_exporter": "python",
   "pygments_lexer": "ipython3",
   "version": "3.7.0"
  }
 },
 "nbformat": 4,
 "nbformat_minor": 2
}
